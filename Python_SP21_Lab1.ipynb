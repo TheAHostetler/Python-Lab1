{
  "nbformat": 4,
  "nbformat_minor": 0,
  "metadata": {
    "colab": {
      "name": "Python SP21 Lab1.ipynb",
      "provenance": [],
      "collapsed_sections": [],
      "authorship_tag": "ABX9TyMrQr8gP4bgm2Oye11UN99c",
      "include_colab_link": true
    },
    "kernelspec": {
      "name": "python3",
      "display_name": "Python 3"
    },
    "language_info": {
      "name": "python"
    }
  },
  "cells": [
    {
      "cell_type": "markdown",
      "metadata": {
        "id": "view-in-github",
        "colab_type": "text"
      },
      "source": [
        "<a href=\"https://colab.research.google.com/github/TheAHostetler/Python-Lab1/blob/main/Python_SP21_Lab1.ipynb\" target=\"_parent\"><img src=\"https://colab.research.google.com/assets/colab-badge.svg\" alt=\"Open In Colab\"/></a>"
      ]
    },
    {
      "cell_type": "markdown",
      "metadata": {
        "id": "98nkePd-waG7"
      },
      "source": [
        "#Lab 1 Assignment - Calculating rain runoff\n",
        "_Course: Python Programming, Spring 2021_\n",
        "##Read Me\n",
        "When agricultural land is paved over, rainwater cannot be absorbed as easily, resulting in the runoff of rainwater. In some cases, this runoff can lead to increases in flooding or landslides. The runoff also presents an opportunity to capture and/or recycle it. We’re going to write a short script to calculate the amount of rain run off of a single plot of land (50 feet by 20 feet) in Kenya during a very small rainstorm. You may be as astonished as we were to learn how much it is. Take a guess: what is the volume of water that runs off a 1,000 square foot plot of paved land during a 1-inch rainstorm? 20 gallons? 50 gallons? 100 gallons? 1000 gallons?\n",
        "\n",
        "To calculate the runoff from any given rainfall:\n",
        "- The area of the surface is calcualted in square feet and convereted to cubic inches to match our measure of rainfall, inches.\n",
        "- The volume, in cubic inches of runoff is calculated by multiplying the rainfall amount (1 inch), by the area of the surface.\n",
        "- The volumetric measure is convereted to gallons."
      ]
    },
    {
      "cell_type": "code",
      "metadata": {
        "id": "Duz-ByxvwZSU"
      },
      "source": [
        "'''\n",
        "Author: Andrew Hostetler\n",
        "Created: 4/13/21\n",
        "Version Py: 3\n",
        "Notes: This script has been developed for a class assigment in the Spring 2021\n",
        "  session of Python Programming. The script takes inputs of the length and\n",
        "  width of a space as well as rainfall amount. Calculations using these\n",
        "  variables produce measures of rainfall runoff in cubic inches and gallons.\n",
        "  The input variables and output of rainfall in gallons are printed upon \n",
        "  executing the script. \n",
        "'''"
      ],
      "execution_count": null,
      "outputs": []
    },
    {
      "cell_type": "code",
      "metadata": {
        "id": "Ow4eK_G-w2BG"
      },
      "source": [
        "#Define variables, assign values\n",
        "length_ft = 50 #surface side length\n",
        "width_ft = 20 #surface side width\n",
        "rain = 1 #rainfall amount in inches\n",
        "\n",
        "\n",
        "#Calculate area in feet and inches\n",
        "area_sqft = length_ft * width_ft\n",
        "area_sqin = area_sqft*(12**2)\n",
        "\n",
        "#Calculate volume of rain water runoff in cubic inches and gallons\n",
        "runoff_cuin = area_sqin*rain #cubic inches\n",
        "runoff_gl = runoff_cuin/231 #gallons\n",
        "\n",
        "#Print results\n",
        "print (\"plot_length is:\",length_ft)\n",
        "print (\"plot_width is:\",width_ft)\n",
        "print (\"rainfall_inches is:\",rain)\n",
        "print (\"runoff_gallons is:\",runoff_gl)\n",
        "\n",
        "\n"
      ],
      "execution_count": null,
      "outputs": []
    }
  ]
}